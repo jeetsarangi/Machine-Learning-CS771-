{
 "cells": [
  {
   "cell_type": "markdown",
   "id": "98f17e0e",
   "metadata": {},
   "source": [
    "# Question 1."
   ]
  },
  {
   "cell_type": "markdown",
   "id": "7c412735",
   "metadata": {},
   "source": [
    "## a)"
   ]
  },
  {
   "cell_type": "code",
   "execution_count": 1,
   "id": "f4b8950c",
   "metadata": {},
   "outputs": [],
   "source": [
    "import numpy as np\n",
    "from matplotlib import pyplot as plt\n",
    "import time as tim"
   ]
  },
  {
   "cell_type": "markdown",
   "id": "75f639cb",
   "metadata": {},
   "source": [
    "Below is the code given in the assignment for calculating gradient descent."
   ]
  },
  {
   "cell_type": "code",
   "execution_count": 2,
   "id": "64d24952",
   "metadata": {},
   "outputs": [],
   "source": [
    "def gradient_descent(gradient,init_,learn_rate,n_iter=50,tol=1e-06):\n",
    "    x = init_\n",
    "    for _ in range(n_iter):\n",
    "        delta = -learn_rate*gradient(x)\n",
    "        if np.all(np.abs(delta) <= tol):\n",
    "            break\n",
    "        x += delta\n",
    "    return round(x*1000)/1000"
   ]
  },
  {
   "cell_type": "markdown",
   "id": "3759601a",
   "metadata": {},
   "source": [
    "Now as per question 1,a I have shown below the functions for calculation the gradient for the polynomial function \n",
    "$ x^2 + 3x + 4 $"
   ]
  },
  {
   "cell_type": "code",
   "execution_count": 3,
   "id": "9b38ab74",
   "metadata": {},
   "outputs": [],
   "source": [
    "def First(x):\n",
    "    return 2*x+3"
   ]
  },
  {
   "cell_type": "markdown",
   "id": "ef30e8c8",
   "metadata": {},
   "source": [
    "Now to find the minima for the function we can use the gradient descent algorithm to reach the lower extremum we have set the initial value to be 0 and the learning rate here I have set a bit high that is 0.1 cause it works fine with it"
   ]
  },
  {
   "cell_type": "code",
   "execution_count": 4,
   "id": "c9dd7ac7",
   "metadata": {},
   "outputs": [
    {
     "name": "stdout",
     "output_type": "stream",
     "text": [
      "The minima for first one is at x=-1.5\n"
     ]
    }
   ],
   "source": [
    "minima1 = gradient_descent(gradient = First,init_ = 0,learn_rate = 0.1)\n",
    "print(\"The minima for first one is at x=\"+str(minima1))"
   ]
  },
  {
   "cell_type": "markdown",
   "id": "5824f8bb",
   "metadata": {},
   "source": [
    "Now for the second polynomial function $ x^4 – 3x^2 + 2x$ the gradient function is given below"
   ]
  },
  {
   "cell_type": "code",
   "execution_count": 5,
   "id": "02607564",
   "metadata": {},
   "outputs": [],
   "source": [
    "def second(x):\n",
    "    a = 4*(x**3)\n",
    "    b = 6*x\n",
    "    return a-b+2"
   ]
  },
  {
   "cell_type": "markdown",
   "id": "362bbf8f",
   "metadata": {},
   "source": [
    "Now to find the minima for the function we can use the gradient descent algorithm to reach the lower extremum we have set the initial value to be 0 and the learning rate is 0.01."
   ]
  },
  {
   "cell_type": "code",
   "execution_count": 6,
   "id": "7d7f4cf8",
   "metadata": {},
   "outputs": [
    {
     "name": "stdout",
     "output_type": "stream",
     "text": [
      "The minima for Second one is at x =-1.357\n"
     ]
    }
   ],
   "source": [
    "minima2 = gradient_descent(gradient = second,init_ = 0,learn_rate = 0.01)\n",
    "print(\"The minima for Second one is at x =\"+str(minima2))"
   ]
  },
  {
   "cell_type": "markdown",
   "id": "25ba4f8e",
   "metadata": {},
   "source": [
    "## b)"
   ]
  },
  {
   "cell_type": "markdown",
   "id": "6f9205a0",
   "metadata": {},
   "source": [
    "Now to calculate the gradient for Loss function of the regression $y = ax+b$ we differentiate the loss function\n",
    "$\\frac{1}{N} * \\sum_{i=0}^N (y_i-y_{pred}^i) $ which uses the mean square error."
   ]
  },
  {
   "cell_type": "markdown",
   "id": "459176af",
   "metadata": {},
   "source": [
    "After differentiation we found the gradient as a vector of partial derivatives once with respect to a and once with b"
   ]
  },
  {
   "cell_type": "markdown",
   "id": "35cae0d1",
   "metadata": {},
   "source": [
    "$D_a = \\frac{-2}{N}\\sum_{i=0}^N (y_i-y_{pred}^i)x_n $ \n",
    "$D_b = \\frac{-2}{N}\\sum_{i=0}^N (y_i-y_{pred}^i) $ \n",
    "Below function used the above and return gradients given X,Y,a and b"
   ]
  },
  {
   "cell_type": "code",
   "execution_count": 7,
   "id": "6cbfe778",
   "metadata": {},
   "outputs": [],
   "source": [
    "def gradient(X,Y,a,b):\n",
    "    n = len(X)\n",
    "    Y_pred = a*X+b\n",
    "    D_a = (-2/n) * np.dot(X,(Y - Y_pred))\n",
    "    D_b = (-2/n) * sum(Y - Y_pred)\n",
    "    return D_a,D_b"
   ]
  },
  {
   "cell_type": "markdown",
   "id": "c0756218",
   "metadata": {},
   "source": [
    "The below function is same as above gradient descent function just it takes arguments of X,Y also with the weights."
   ]
  },
  {
   "cell_type": "code",
   "execution_count": 8,
   "id": "aa47b062",
   "metadata": {},
   "outputs": [],
   "source": [
    "def mygradient_descent(gradient,X,Y,init_a,init_b,learn_rate,n_iter=50,tol=1e-06):\n",
    "    a = init_a\n",
    "    b = init_b\n",
    "    for _ in range(n_iter):\n",
    "\n",
    "        d_a,d_b = gradient(X,Y,a,b)\n",
    "        delta_a,delta_b = -learn_rate*d_a,-learn_rate*d_b\n",
    "\n",
    "        if np.all(np.abs([delta_a,delta_b]) <= tol):\n",
    "                break\n",
    "\n",
    "        a += delta_a \n",
    "        b += delta_b\n",
    "    return a,b"
   ]
  },
  {
   "cell_type": "markdown",
   "id": "e8952688",
   "metadata": {},
   "source": [
    "## c)\n",
    "Below function is given in the question to generate random data"
   ]
  },
  {
   "cell_type": "code",
   "execution_count": 9,
   "id": "3e0a7286",
   "metadata": {},
   "outputs": [],
   "source": [
    "def generaterandomdata():\n",
    "    np.random.seed(0)\n",
    "    X = 2.5*np.random.randn(10000)+1.5\n",
    "    res = 1.5*np.random.randn(10000)\n",
    "    y = 2+0.3*X+res\n",
    "    return X,y"
   ]
  },
  {
   "cell_type": "code",
   "execution_count": 10,
   "id": "99fb821b",
   "metadata": {},
   "outputs": [
    {
     "name": "stdout",
     "output_type": "stream",
     "text": [
      "The parameters a and b after being updated to minimise the Loss is a = 0.2953318623386959 b = 2.02321971821676\n"
     ]
    }
   ],
   "source": [
    "X,Y = generaterandomdata()\n",
    "res = mygradient_descent(gradient,X,Y,0,0,0.01,1000,1e-06)\n",
    "print(\"The parameters a and b after being updated to minimise the Loss is a = \"+str(res[0])+\" b = \"+str(res[1]))"
   ]
  },
  {
   "cell_type": "markdown",
   "id": "4aae0d1c",
   "metadata": {},
   "source": [
    "# d)\n",
    "Now,Lets implement Minibatch stochastic gradient descent there are two ways to implement this algorithm \n",
    "1.We take B indices randomly (let's say it is the batch size) i.e. data points, compute gradient using those and then update weights. And repeat this for N iterations as explained in the course slides.\n",
    "2.We shuffle the data, then iterate on the whole data in sets of 100 and update the weights after computing gradient for each set. And we repeat this for N iterations.\n",
    "I have implemented the First one below as per the course."
   ]
  },
  {
   "cell_type": "code",
   "execution_count": 11,
   "id": "ddfd672f",
   "metadata": {},
   "outputs": [],
   "source": [
    "def minibatchsgd(gradient,X,Y,learn_rate,batch_size = 50,n_iter = 50,tol=1e-06):\n",
    "    n_obs = X.shape[0]\n",
    "    a = 0\n",
    "    b = 0\n",
    "    \n",
    "    for _ in range(n_iter):\n",
    "        \n",
    "        index = np.random.permutation(len(X))\n",
    "        X = X[index]\n",
    "        Y = Y[index]\n",
    "        \n",
    "        x_batch,y_batch = X[0:batch_size],Y[0:batch_size]\n",
    "        d_a,d_b = gradient(x_batch, y_batch,a,b)\n",
    "        delta_a,delta_b = -learn_rate*d_a,-learn_rate*d_b\n",
    "        \n",
    "        if np.all(np.abs([delta_a,delta_b]) <= tol):\n",
    "                break\n",
    "        \n",
    "        a += delta_a\n",
    "        b += delta_b\n",
    "        \n",
    "    return a,b"
   ]
  },
  {
   "cell_type": "code",
   "execution_count": 12,
   "id": "08200742",
   "metadata": {},
   "outputs": [
    {
     "name": "stdout",
     "output_type": "stream",
     "text": [
      "For learning rate at 0.01 and batchsize as 100 and iteration as 500 minibatch sgd gives optimal values of a and b for linear \n",
      "regression y = ax+b Loss minimisation as a = 0.3159717425712388, b = 2.0363174620297104\n"
     ]
    }
   ],
   "source": [
    "X,Y = generaterandomdata()\n",
    "res = minibatchsgd(gradient,X,Y,learn_rate = 0.01,batch_size = 100,n_iter = 500)\n",
    "print(\"For learning rate at 0.01 and batchsize as 100 and iteration as 500 minibatch sgd gives optimal values of a and b for linear \\nregression y = ax+b Loss minimisation as a = \"+str(res[0])+\", b = \"+str(res[1]))"
   ]
  },
  {
   "cell_type": "markdown",
   "id": "6bbff8f0",
   "metadata": {},
   "source": [
    "## e)"
   ]
  },
  {
   "cell_type": "markdown",
   "id": "8fa2169f",
   "metadata": {},
   "source": [
    "Now for this question we'll first try for using minibatch sgd as sgd just by putting batchsize = 1,as per the course defination\n",
    "So,we dont need to implement new SGD algorithm we can reuse the above."
   ]
  },
  {
   "cell_type": "code",
   "execution_count": 13,
   "id": "1313fc74",
   "metadata": {},
   "outputs": [
    {
     "name": "stdout",
     "output_type": "stream",
     "text": [
      "For learning rate at 0.01 and batchsize as 1 and iteration as 500 minibatch sgd gives optimal values of a and b for linear \n",
      "regression y = ax+b Loss minimisation as a = 0.03545573877167239 b = 1.9075919586872565\n"
     ]
    }
   ],
   "source": [
    "X,Y = generaterandomdata()\n",
    "res = minibatchsgd(gradient,X,Y,learn_rate = 0.01,batch_size = 1,n_iter = 500)\n",
    "print(\"For learning rate at 0.01 and batchsize as 1 and iteration as 500 minibatch sgd gives optimal values of a and b for linear \\nregression y = ax+b Loss minimisation as a = \"+str(res[0])+\" b = \"+str(res[1]))"
   ]
  },
  {
   "cell_type": "markdown",
   "id": "648ecad1",
   "metadata": {},
   "source": [
    "This was actually very fast for our data but as we can see above the accuracy is way too low.So,lets try the same algorithm with some more iteration as its faster it can do more iteration quickly"
   ]
  },
  {
   "cell_type": "code",
   "execution_count": 14,
   "id": "20fa6cbe",
   "metadata": {},
   "outputs": [
    {
     "name": "stdout",
     "output_type": "stream",
     "text": [
      "For learning rate at 0.01 and batchsize as 1 and iteration as 10000 minibatch sgd gives optimal values of a and b for linear \n",
      "regression y = ax+b Loss minimisation as a = 0.2874303279336194 b = 2.411947034850882\n"
     ]
    }
   ],
   "source": [
    "X,Y = generaterandomdata()\n",
    "res = minibatchsgd(gradient,X,Y,learn_rate = 0.01,batch_size = 1,n_iter = 10000)\n",
    "print(\"For learning rate at 0.01 and batchsize as 1 and iteration as 10000 minibatch sgd gives optimal values of a and b for linear \\nregression y = ax+b Loss minimisation as a = \"+str(res[0])+\" b = \"+str(res[1]))"
   ]
  },
  {
   "cell_type": "markdown",
   "id": "5d4d6ffb",
   "metadata": {},
   "source": [
    "So,now with these many iterations it algorithm became a bit slow although the accuracy increased but still less accurate than \n",
    "gradient descent and minibatch stochastic gradient descent.Hence can be used for larger dataset accuracy will get hit but the algorithm works quite faster than other two."
   ]
  },
  {
   "cell_type": "markdown",
   "id": "21ccae50",
   "metadata": {},
   "source": [
    "Lets,now try to find an optimal Batchsize for Minibatch SGD."
   ]
  },
  {
   "cell_type": "code",
   "execution_count": 15,
   "id": "d46ba47f",
   "metadata": {},
   "outputs": [],
   "source": [
    "X,Y = generaterandomdata()\n",
    "a = 0.3\n",
    "b = 2\n",
    "Error = []\n",
    "minimum = 10000\n",
    "minbatch = 1\n",
    "for batchsize in range(50,1000,25):\n",
    "    res = minibatchsgd(gradient,X,Y,learn_rate = 0.01,batch_size = batchsize,n_iter = 500)\n",
    "    mse = ((a-res[0])**2+(b-res[1])**2)/2\n",
    "    if minimum > mse:\n",
    "        minimum = mse\n",
    "        minbatch = batchsize\n",
    "    Error.append(mse)\n"
   ]
  },
  {
   "cell_type": "code",
   "execution_count": 16,
   "id": "c880e945",
   "metadata": {},
   "outputs": [
    {
     "data": {
      "text/plain": [
       "[<matplotlib.lines.Line2D at 0x1418b50f310>]"
      ]
     },
     "execution_count": 16,
     "metadata": {},
     "output_type": "execute_result"
    },
    {
     "data": {
      "image/png": "[encoded data removed]",
      "text/plain": [
       "<Figure size 432x288 with 1 Axes>"
      ]
     },
     "metadata": {
      "needs_background": "light"
     },
     "output_type": "display_data"
    }
   ],
   "source": [
    "batchsize = [i for i in range(50,1000,25)]\n",
    "plt.plot(batchsize,Error)"
   ]
  },
  {
   "cell_type": "markdown",
   "id": "02af17e4",
   "metadata": {},
   "source": [
    "#### Optimal Batch size:"
   ]
  },
  {
   "cell_type": "code",
   "execution_count": 17,
   "id": "52d03b15",
   "metadata": {},
   "outputs": [
    {
     "name": "stdout",
     "output_type": "stream",
     "text": [
      "The optimal Batchsize is = 550 For the given data Data\n"
     ]
    }
   ],
   "source": [
    "print(\"The optimal Batchsize is = \"+str(minbatch)+\" For the given data Data\")"
   ]
  },
  {
   "cell_type": "markdown",
   "id": "23db07c4",
   "metadata": {},
   "source": [
    "Now lets compare the time taken by each algorithm"
   ]
  },
  {
   "cell_type": "code",
   "execution_count": 19,
   "id": "5ecd1bad",
   "metadata": {},
   "outputs": [
    {
     "name": "stdout",
     "output_type": "stream",
     "text": [
      "For gradient descent Time takin with learning rate 0.001 and iteration 10000 is 14.6875\n",
      "For minibatch stochastic gd Time takin with learning rate 0.001 and iteration 10000 is 9.859375\n",
      "For stochastic gd Time takin with learning rate 0.001 and iteration 10000 is 5.734375\n",
      "Improvement in terms of time from Gradient descent to Stochastic Gradient Descent is = 39.04255319148936%age\n"
     ]
    }
   ],
   "source": [
    "X,Y = generaterandomdata()\n",
    "tic = tim.process_time()\n",
    "res = mygradient_descent(gradient,X,Y,0,0,learn_rate = 0.001,n_iter = 10000)\n",
    "toc = tim.process_time()\n",
    "timeofgd = toc-tic\n",
    "print(\"For gradient descent Time takin with learning rate 0.001 and iteration 10000 is \"+str(toc-tic))\n",
    "tic = tim.process_time()\n",
    "res2 =  minibatchsgd(gradient,X,Y,learn_rate = 0.001,batch_size = 100,n_iter = 10000)\n",
    "toc = tim.process_time()\n",
    "print(\"For minibatch stochastic gd Time takin with learning rate 0.001 and iteration 10000 is \"+str(toc-tic))\n",
    "tic = tim.process_time()\n",
    "res3 =  minibatchsgd(gradient,X,Y,learn_rate = 0.001,batch_size = 1,n_iter = 10000)\n",
    "toc = tim.process_time()\n",
    "timeofsgd = toc-tic\n",
    "print(\"For stochastic gd Time takin with learning rate 0.001 and iteration 10000 is \"+str(toc-tic))\n",
    "print(\"Improvement in terms of time from Gradient descent to Stochastic Gradient Descent is = \"+str((timeofsgd/timeofgd)*100)+\"%age\")"
   ]
  },
  {
   "cell_type": "markdown",
   "id": "c2cdd6f6",
   "metadata": {},
   "source": [
    "From the above we can clearly see that for this data sgd is way more faster than other two and basically time for </br>Gradient descent > Minibatch Stochastic Gradient Descent > Stochastic Gradient Descent."
   ]
  },
  {
   "cell_type": "markdown",
   "id": "8a065d76",
   "metadata": {},
   "source": [
    "# Question no 2."
   ]
  },
  {
   "cell_type": "markdown",
   "id": "cb511b9a",
   "metadata": {},
   "source": [
    "(i) The probability that someone has both cold and a fever\n",
    "    According to the given Bayesian Network the fever is dependent on cold.Hence,\n",
    "    $P(Fever,Cold) = P(Cold)*P(\\frac{Fever}{Cold}) = 0.02 * 0.307 = 0.00614$(Answer)</br>\n",
    "    "
   ]
  },
  {
   "cell_type": "markdown",
   "id": "8e4ca73c",
   "metadata": {},
   "source": [
    "(ii)The probability that someone who has a cough has a cold.\n",
    "</br></br>\n",
    "$\n",
    "P(\\frac{Cold}{Cough}) = \\frac{P(Cold,Cough)}{P(Cough)}\n",
    "$</br></br>\n",
    "Lets First calculate the probability of Lung Disease</br>\n",
    "$\n",
    "P(Lung) = P(Lung,Smoke)+P(Lung,NoSmoke) = (0.2*0.1009) + (0.8*0.001) = 0.02098$</br>$\n",
    "P(NoLung) = 1-P(Lung) = 0.97902\n",
    "$</br>\n",
    "</br>Now Lets Calculate Final result:</br>\n",
    "</br>$\n",
    "\\frac{P(Cold,Cough)}{P(Cough)} = \\frac{P(Cold,Cough)}{P(Cold,Cough)+P(Cold,NoCough)} = \\frac{(0.7575*0.02*0.02098)+(0.505*0.02*0.97902)}{(0.7575*0.02*0.02098)+(0.505*0.02*0.97902)+(0.505*0.98*0.02098)+(0.01+0.98+0.97902)}\n",
    "$</br></br>\n",
    "$\n",
    " = \\frac{0.000318+0.00989}{0.000318+0.00989+0.01038+0.00959} = 0.3382$(approx)(Answer)\n"
   ]
  },
  {
   "cell_type": "markdown",
   "id": "ab440354",
   "metadata": {},
   "source": [
    "## Question no 3."
   ]
  },
  {
   "cell_type": "markdown",
   "id": "c16ef581",
   "metadata": {},
   "source": [
    "The probability mass function is given as $$ f(X1,X2,....,Xk) = \\frac{n!}{x1!,x2!,...,xk!}P_1^ {x1}...P_k^ {xk}$$"
   ]
  },
  {
   "cell_type": "markdown",
   "id": "1c7864b8",
   "metadata": {},
   "source": [
    "where $\\sum_{i=1}^{k} x_i = n$ and $\\sum_{i=1}^{k} P_i = 1$"
   ]
  },
  {
   "cell_type": "markdown",
   "id": "ee926212",
   "metadata": {},
   "source": [
    "The likelihood could be then written as joint probability:$L(\\mathbf{p}) = {{n}\\choose{x_1, ..., x_m}}\\prod_{i=1}^m p_i^{x_i} \\\\\n",
    "= n! \\prod_{i=1}^m \\frac{p_i^{x_i}}{x_i!}$"
   ]
  },
  {
   "cell_type": "markdown",
   "id": "10d76e4a",
   "metadata": {},
   "source": [
    "Then The log liklihood is : $l(\\mathbf{p}) = \\log L(\\mathbf{p}) = \\log \\bigg( n! \\prod_{i=1}^m \\frac{p_i^{x_i}}{x_i!} \\bigg)$</br>\n",
    "$= \\log n! + \\log \\prod_{i=1}^m \\frac{p_i^{x_i}}{x_i!}\\\\\n",
    "= \\log n! + \\sum_{i=1}^m \\log \\frac{p_i^{x_i}}{x_i!} \\\\\n",
    "= \\log n! + \\sum_{i=1}^m x_i \\log p_i - \\sum_{i=1}^m \\log x_i!\n",
    "$"
   ]
  },
  {
   "cell_type": "markdown",
   "id": "ec75926c",
   "metadata": {},
   "source": [
    "After putting a constraint with Lagrange multiplier i.e $\\sum_{i=1}^m p_i = 1$</br>\n",
    "$l'(\\mathbf{p},\\lambda) = l(\\mathbf{p}) + \\lambda\\bigg(1 - \\sum_{i=1}^m p_i\\bigg)$"
   ]
  },
  {
   "cell_type": "markdown",
   "id": "084186a4",
   "metadata": {},
   "source": [
    "For finding the maximum p for $ L(\\mathbf{p},\\lambda)$"
   ]
  },
  {
   "cell_type": "markdown",
   "id": "d97fa40c",
   "metadata": {},
   "source": [
    "$\\frac{\\partial}{\\partial p_i} l'(\\mathbf{p},\\lambda)= \\frac{\\partial}{\\partial p_i} l(\\mathbf{p})\n",
    "+ \\frac{\\partial}{\\partial p_i} \\lambda\\bigg(1 - \\sum_{i=1}^m p_i\\bigg) = 0$\n",
    "</br>\n",
    "$ \\frac{\\partial}{\\partial p_i} \\sum_{i=1}^m x_i \\log p_i\n",
    "- \\lambda \\frac{\\partial}{\\partial p_i} \\sum_{i=1}^m p_i = 0 $</br>$ \n",
    "\\frac{x_i}{p_i}- \\lambda  = 0 $</br>$\n",
    "p_i = \\frac{x_i}{\\lambda} $"
   ]
  },
  {
   "cell_type": "markdown",
   "id": "305174b8",
   "metadata": {},
   "source": [
    "Thus,"
   ]
  },
  {
   "cell_type": "markdown",
   "id": "9ea826cb",
   "metadata": {},
   "source": [
    "$p_i = \\frac{x_i}{n}$, because $p_i = \\frac{x_i}{\\lambda} $</br>\n",
    "$\\sum_{i=1}^m p_i = \\sum_{i=1}^m \\frac{x_i}{\\lambda} $</br>\n",
    "$1 = \\frac{1}{\\lambda} \\sum_{i=1}^m x_i $</br>\n",
    "$\\lambda = n$"
   ]
  },
  {
   "cell_type": "markdown",
   "id": "d08e3976",
   "metadata": {},
   "source": [
    "distribution that maximizes the likelihood is :\n",
    "$\\mathbf{p} = (\\frac{x_1}{n},\n",
    "...,\n",
    "\\frac{x_m}{n})$"
   ]
  }
 ],
 "metadata": {
  "kernelspec": {
   "display_name": "Python 3 (ipykernel)",
   "language": "python",
   "name": "python3"
  },
  "language_info": {
   "codemirror_mode": {
    "name": "ipython",
    "version": 3
   },
   "file_extension": ".py",
   "mimetype": "text/x-python",
   "name": "python",
   "nbconvert_exporter": "python",
   "pygments_lexer": "ipython3",
   "version": "3.9.6"
  }
 },
 "nbformat": 4,
 "nbformat_minor": 5
}
