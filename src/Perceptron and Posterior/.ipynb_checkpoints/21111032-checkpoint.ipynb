{
 "cells": [
  {
   "cell_type": "markdown",
   "id": "5d8fae40",
   "metadata": {},
   "source": [
    "# Question1:"
   ]
  },
  {
   "cell_type": "markdown",
   "id": "834446f8",
   "metadata": {},
   "source": [
    "## 1a)"
   ]
  },
  {
   "cell_type": "markdown",
   "id": "1821d8b5",
   "metadata": {},
   "source": [
    "Here,I have coded the perceptron algorithm below as described in slide 7 of lecture 15.I is a function called perceptron which takes as input the data(shall be numpy array) and the covergence check value it assumes convergence according to this value if for those many number of iterations the W(weight) does'nt changes then it is assumed to be converged.The function return the Final converged W(weight) for the data."
   ]
  },
  {
   "cell_type": "code",
   "execution_count": 1,
   "id": "a1c20cd3",
   "metadata": {},
   "outputs": [],
   "source": [
    "import numpy as np"
   ]
  },
  {
   "cell_type": "code",
   "execution_count": 2,
   "id": "8fb5cc32",
   "metadata": {},
   "outputs": [],
   "source": [
    "def perceptron(data,convergence_check):\n",
    "    k = convergence_check\n",
    "    W = np.ones(len(data[0])-1)\n",
    "    \n",
    "    while k>0:\n",
    "        np.random.shuffle(data)\n",
    "        yn = data[0][len(data[0])-1]\n",
    "        xn = data[0][:len(data[0])-1]\n",
    "\n",
    "        if yn*(np.dot(xn,W)) < 0:\n",
    "            W = np.add(W,yn*xn)\n",
    "            k = convergence_check\n",
    "        else:\n",
    "            k -= 1\n",
    "    return W"
   ]
  },
  {
   "cell_type": "markdown",
   "id": "22dd659a",
   "metadata": {},
   "source": [
    "## 1b)"
   ]
  },
  {
   "cell_type": "markdown",
   "id": "e00b81cb",
   "metadata": {},
   "source": [
    "Below function takes data makes it a numpy array and trains the model get the weight vector and returns it."
   ]
  },
  {
   "cell_type": "code",
   "execution_count": 3,
   "id": "452079ec",
   "metadata": {},
   "outputs": [],
   "source": [
    "def Train_model(data,k):\n",
    "    IW = perceptron(np.array(data),k)\n",
    "    return IW"
   ]
  },
  {
   "cell_type": "markdown",
   "id": "f22af511",
   "metadata": {},
   "source": [
    "The Below function predict(X,W) takes as input a weight vector and a vector of features of data the returns the predicted class for it.</br>\n",
    "The function Check(data,W) take input some data and a weight vector the try predicting the classes of data and returns the accuracy."
   ]
  },
  {
   "cell_type": "code",
   "execution_count": 4,
   "id": "65ae9df2",
   "metadata": {},
   "outputs": [],
   "source": [
    "def predict(X,W):\n",
    "    cls = np.dot(X,W)\n",
    "    if cls>=0:\n",
    "        return 1\n",
    "    else:\n",
    "        return -1\n",
    "\n",
    "def Check(data,W):\n",
    "    Result = np.array(data['col5'])\n",
    "    Input = np.array(data[['col1','col2','col3','col4']])\n",
    "    correct = 0\n",
    "    for i in range(len(Input)):\n",
    "        if predict(Input[i],W) == Result[i]:\n",
    "            correct += 1\n",
    "    return correct/len(Input)"
   ]
  },
  {
   "cell_type": "code",
   "execution_count": 5,
   "id": "a1cefcf3",
   "metadata": {},
   "outputs": [],
   "source": [
    "import pandas as pd"
   ]
  },
  {
   "cell_type": "markdown",
   "id": "0bdbe77a",
   "metadata": {},
   "source": [
    "In the Below snippet of code I have read the banknote dataset and added column names to it and changed class 0 to class -1 for the perceptron algorithm given in slides to work well."
   ]
  },
  {
   "cell_type": "code",
   "execution_count": 6,
   "id": "c01c51b0",
   "metadata": {},
   "outputs": [],
   "source": [
    "Bank_data = pd.read_csv(\"data_banknote_authentication.txt\",names = ['col1','col2','col3','col4','col5'])\n",
    "Bank_data.loc[(Bank_data['col5'] == 0),'col5'] = -1"
   ]
  },
  {
   "cell_type": "markdown",
   "id": "e4b6e885",
   "metadata": {},
   "source": [
    "Here Below I have made the function splitdata(Bank_data,test_ratio) to split the given dataset to 2 sets based on the test_ratio which provide the size of test set.I have made the function in a way that it always try to ensure that representation ratio of both the classes in the data provided is maintained in the test and training set as well."
   ]
  },
  {
   "cell_type": "code",
   "execution_count": 7,
   "id": "1788b49a",
   "metadata": {},
   "outputs": [],
   "source": [
    "def splitdata(Bank_data,test_ratio):\n",
    "    total = len(Bank_data)\n",
    "    Bank_data_pos = Bank_data[Bank_data['col5']==1]\n",
    "    Bank_data_neg = Bank_data[Bank_data['col5']==-1]\n",
    "\n",
    "    shuffled_pos = np.random.permutation(len(Bank_data_pos))\n",
    "    shuffled_neg = np.random.permutation(len(Bank_data_neg))\n",
    "\n",
    "    test_size = int(total*test_ratio)\n",
    "    pos_test_size = int((len(Bank_data_pos)/total)*test_size)\n",
    "    neg_test_size = test_size-pos_test_size\n",
    "\n",
    "    test_set_indices = shuffled_neg[:neg_test_size]\n",
    "    training_set_indices = shuffled_neg[neg_test_size:]\n",
    "\n",
    "    test_set = Bank_data_neg.iloc[test_set_indices]\n",
    "    training_set = Bank_data_neg.iloc[training_set_indices]\n",
    "\n",
    "    test_set_indices = shuffled_pos[:pos_test_size]\n",
    "    training_set_indices = shuffled_pos[pos_test_size:]\n",
    "\n",
    "\n",
    "    test_set = test_set.append(Bank_data_pos.iloc[test_set_indices],ignore_index=True)\n",
    "    training_set = training_set.append(Bank_data_pos.iloc[training_set_indices],ignore_index=True)\n",
    "    return test_set,training_set"
   ]
  },
  {
   "cell_type": "markdown",
   "id": "31ea3e33",
   "metadata": {},
   "source": [
    "The below is just an trying out example to show how the algorithm is working it has no link with the questions since the test and training derived here are never used just an example is shown here by giving the convergence limit as 100 points."
   ]
  },
  {
   "cell_type": "code",
   "execution_count": 8,
   "id": "dad731f5",
   "metadata": {},
   "outputs": [
    {
     "name": "stdout",
     "output_type": "stream",
     "text": [
      "if we train using the above algorithm the Bankdata then we get test set accuracy percentage = 94.8905109489051\n"
     ]
    }
   ],
   "source": [
    "Testing,Training = splitdata(Bank_data,0.1)\n",
    "W = Train_model(Training,100)\n",
    "print(\"if we train using the above algorithm the Bankdata then we get test set accuracy percentage = \"+str(Check(Testing,W)*100))"
   ]
  },
  {
   "cell_type": "markdown",
   "id": "0492eae9",
   "metadata": {},
   "source": [
    "## 1c)"
   ]
  },
  {
   "cell_type": "markdown",
   "id": "f4f0d8a9",
   "metadata": {},
   "source": [
    "Here,in the below function cross_validation(data,k_values) it takes as input data and some list of k values for which it first breaks the data into validation and training set or we can also term it as test and training set then for each k values it runs the algorithm and finds the Weight vector and notes it accuracy using the check() function."
   ]
  },
  {
   "cell_type": "code",
   "execution_count": 9,
   "id": "fb6220d3",
   "metadata": {},
   "outputs": [],
   "source": [
    "def cross_validation(data,k_values):\n",
    "    validation,train = splitdata(data,0.1)\n",
    "    accuracy = []\n",
    "    for i in k_values:\n",
    "        W = Train_model(Training,i)\n",
    "        accuracy.append(Check(validation,W))\n",
    "    return accuracy"
   ]
  },
  {
   "cell_type": "markdown",
   "id": "d67288a0",
   "metadata": {},
   "source": [
    "On below snippet I had divided the complete data to two parts one is Heldout_Validationset and another is training set how using the training set and list of k values from 10 to 100 I have found the error for each k value the printed the best k with minimal error and its converged weight vector."
   ]
  },
  {
   "cell_type": "code",
   "execution_count": 10,
   "id": "3e29b8e2",
   "metadata": {},
   "outputs": [
    {
     "name": "stdout",
     "output_type": "stream",
     "text": [
      "Best k = 70 for which error is least and the best W is = [-30.783153  -19.714159  -21.6347916 -10.2662288] and the error percentage is \n",
      "5.691056910569103\n"
     ]
    }
   ],
   "source": [
    "Heldout_Validationset,Training = splitdata(Bank_data,0.1)\n",
    "k_val = [i for i in range(10,100,10)]\n",
    "acc = cross_validation(Training,k_val)\n",
    "err = [(1-i) for i in acc]\n",
    "maxIndex = 0\n",
    "for i in range(len(acc)):\n",
    "    if acc[i] > acc[maxIndex]:\n",
    "        maxIndex = i\n",
    "W = Train_model(Training,k_val[maxIndex])\n",
    "# Check(Testing,W)\n",
    "# print(W)\n",
    "print(\"Best k = \"+str(k_val[maxIndex])+\" for which error is least and the best W is = \"+str(W)+\" and the error percentage is \\n\"+str((1-acc[maxIndex])*100))"
   ]
  },
  {
   "cell_type": "markdown",
   "id": "f4a7ad02",
   "metadata": {},
   "source": [
    "I have plotted the error Findings for all k values below."
   ]
  },
  {
   "cell_type": "code",
   "execution_count": 11,
   "id": "884541b6",
   "metadata": {},
   "outputs": [],
   "source": [
    "from matplotlib import pyplot as plt"
   ]
  },
  {
   "cell_type": "code",
   "execution_count": 12,
   "id": "db6cefa8",
   "metadata": {},
   "outputs": [
    {
     "data": {
      "image/png": "[encoded data removed]",
      "text/plain": [
       "<Figure size 720x360 with 1 Axes>"
      ]
     },
     "metadata": {
      "needs_background": "light"
     },
     "output_type": "display_data"
    }
   ],
   "source": [
    "plt.figure(figsize = (10,5))\n",
    "plt.title(\"Error\")\n",
    "plt.xlabel(\"K-value or covergence check limit\")\n",
    "plt.ylabel(\"Error\")\n",
    "plt.plot(k_val,err,'c')\n",
    "plt.show()"
   ]
  },
  {
   "cell_type": "markdown",
   "id": "bc58d4b2",
   "metadata": {},
   "source": [
    "## 1d)"
   ]
  },
  {
   "cell_type": "markdown",
   "id": "977baecf",
   "metadata": {},
   "source": [
    "Below Function is for calculating the F1 score using the W that is generated on above process.Given the data and a Weight vector it return the F1 score for both the classes."
   ]
  },
  {
   "cell_type": "code",
   "execution_count": 13,
   "id": "3220c7db",
   "metadata": {},
   "outputs": [],
   "source": [
    "def Calculate_F1score(data,W):\n",
    "    Result = np.array(data['col5'])\n",
    "    Input = np.array(data[['col1','col2','col3','col4']])\n",
    "    TP = 0\n",
    "    FP = 0\n",
    "    FN = 0\n",
    "    TN = 0\n",
    "    for i in range(len(Input)):\n",
    "        pred = predict(Input[i],W)\n",
    "        if pred == 1 and Result[i] == 1:\n",
    "            TP += 1\n",
    "        elif pred == 1 and Result[i] == -1:\n",
    "            FP += 1\n",
    "        elif pred == -1 and Result[i] == 1:\n",
    "            FN += 1\n",
    "        else:\n",
    "            TN += 1\n",
    "    \n",
    "    precision_pos = TP/(TP+FP)\n",
    "    recall_pos = TP/(TP+FN)\n",
    "    precision_neg = TN/(TN+FN)\n",
    "    recall_neg = TN/(TN+FP)\n",
    "    score_pos = (2*precision_pos*recall_pos)/(precision_pos+recall_pos)\n",
    "    score_neg = (2*precision_neg*recall_neg)/(precision_neg+recall_neg)\n",
    "    return score_pos,score_neg"
   ]
  },
  {
   "cell_type": "markdown",
   "id": "a930f396",
   "metadata": {},
   "source": [
    "On the below code it generated and prints the F1 score of model on the Heldout_Validationset for both the classes."
   ]
  },
  {
   "cell_type": "code",
   "execution_count": 14,
   "id": "2b3d10b8",
   "metadata": {},
   "outputs": [
    {
     "name": "stdout",
     "output_type": "stream",
     "text": [
      "The F1score for class 1 = 0.9380530973451328 and for class 0 is = 0.9565217391304348\n"
     ]
    }
   ],
   "source": [
    "pos,neg = Calculate_F1score(Heldout_Validationset,W)\n",
    "print(\"The F1score for class 1 = \"+str(pos)+\" and for class 0 is = \"+str(neg))"
   ]
  },
  {
   "cell_type": "markdown",
   "id": "8377fac8",
   "metadata": {},
   "source": [
    "# Question2:"
   ]
  },
  {
   "cell_type": "markdown",
   "id": "2cf27ddc",
   "metadata": {},
   "source": [
    "## 2a)"
   ]
  },
  {
   "cell_type": "markdown",
   "id": "ad31da7d",
   "metadata": {},
   "source": [
    "The below code generates data from a normal distribution and the function normal() takes input a value,mean and standard deviation and return the pobability density at value."
   ]
  },
  {
   "cell_type": "code",
   "execution_count": 15,
   "id": "46c17a89",
   "metadata": {},
   "outputs": [],
   "source": [
    "data = np.random.normal(loc=10, scale=5, size=50)\n",
    "def normal(val,mean,sd):\n",
    "    a = 1/(sd*np.sqrt(2*np.pi))\n",
    "    diff = np.power(val-mean,2)\n",
    "    b = np.exp(-(diff/(sd*sd*2)))\n",
    "    return a*b"
   ]
  },
  {
   "cell_type": "markdown",
   "id": "e4f7eec2",
   "metadata": {},
   "source": [
    "The below snippet of code generates the mean of the likelihood function by applying mean on the data and generate set of x point values for theta from a linear spaced range of 1 to 50.</br>Then I have calculated the pdf of likelihood for all X-values and stored in prob_likelihood.</br>\n",
    "Similarly for prior also I have calculated the pdf below.\n"
   ]
  },
  {
   "cell_type": "code",
   "execution_count": 16,
   "id": "9caa5ca4",
   "metadata": {},
   "outputs": [],
   "source": [
    "prob_likelihood = []\n",
    "mean = np.mean(data)\n",
    "X = np.linspace(5,50,200)\n",
    "for i in X:\n",
    "    prob_likelihood.append(normal(i,mean,5/np.sqrt(50)))\n",
    "prob_prior = []\n",
    "for i in X:\n",
    "    prob_prior.append(normal(i,25,5))"
   ]
  },
  {
   "cell_type": "markdown",
   "id": "4c753f80",
   "metadata": {},
   "source": [
    "In below snippet I have calculated the pdf of the posterior for the given data on all X-values."
   ]
  },
  {
   "cell_type": "code",
   "execution_count": 17,
   "id": "f47b9795",
   "metadata": {},
   "outputs": [],
   "source": [
    "post_sd = np.sqrt((25*25)/(25+(25*50)))\n",
    "post_mean = post_sd*((25*25+50*mean*25)/(25*25))\n",
    "prob_post = []\n",
    "for i in X:\n",
    "    prob_post.append(normal(i,post_mean,post_sd))"
   ]
  },
  {
   "cell_type": "markdown",
   "id": "5ebc9074",
   "metadata": {},
   "source": [
    "Below is the plot for prior , likelihood and posterior of the data given."
   ]
  },
  {
   "cell_type": "markdown",
   "id": "99417b78",
   "metadata": {},
   "source": [
    "#### Likelihood:\n",
    "from above likelihood equation,\n",
    "$$p({y_1,y_2,y_3,..y_N}/{\\mu})=\\prod_{n=1}^{N} \\frac{1}{\\sqrt{2\\pi\\sigma^2}}\\exp\\left\\{\\frac{-(y_n-\\mu)^2}{2\\sigma^2}\\right\\}$$\n",
    "\n",
    "$$=\\frac{1}{(2\\pi)^{N/2}\\sigma^N}\\exp\\left\\{(-\\frac{N}{2\\sigma^2})(\\frac{\\sum_{n=1}^{N}y_n^2}{N}+\\frac{\\mu^2 N}{N}-\\frac{2\\mu \\sum_{n=1}^{N}y_n}{N}) \\right\\}$$\n",
    "\n",
    "now as $\\bar y$ = $\\frac{\\sum_{n=1}^{N}y_n}{N}$, and $(\\bar y)^2$ = $\\frac{\\sum_{n=1}^{N}y_n^2}{N}$,\n",
    "\n",
    "$$p({y_1,y_2,y_3,..y_N}/{\\mu})\\propto \\exp \\left\\{(-\\frac{N}{2\\sigma^2})((\\bar y)^2+\\mu^2- 2\\mu\\bar y) \\right\\}$$\n",
    "\n",
    "$$p({y_1,y_2,y_3,..y_N}/{\\mu})\\propto \\exp \\left\\{ -\\frac{N}{2\\sigma^2}(\\bar y - \\mu)^2\\right\\}$$\n",
    "\n",
    "$$so,\\space \\space p({y}/{\\mu}) \\propto p({\\bar y}/{\\mu})$$\n",
    "\n",
    "and as the data is sampled from a normal distribution,\n",
    "$$\\bar y/\\mu \\sim N(\\mu,\\frac{\\sigma^2}{N})$$\n",
    "$$so, \\space \\space p({ \\bar y}/{\\mu}) \\propto\\exp \\left\\{ -\\frac{N}{2\\sigma^2}(\\bar y - \\mu)^2\\right\\}$$\n",
    "\n",
    "replacing $\\frac{\\sigma^2}{N}$ by $\\sigma_l^2,$\n",
    "\n",
    "so $p({y}/{\\mu})$ be represented by  $$\\frac{1}{\\sqrt{2\\pi\\sigma_l^2}}\\exp\\left\\{\\frac{-(\\bar y-\\mu)^2}{2\\sigma_l^2}\\right\\}...derived \\space likelihood$$\n",
    "\n",
    "so we have likelihood distribution as,\n",
    "\n",
    "$$p({y}/{\\mu})=\\frac{1}{\\sqrt{2\\pi\\sigma_l^2}}\\exp\\left\\{\\frac{-(\\bar y-\\mu)^2}{2\\sigma_l^2}\\right\\}...derived \\space likelihood$$"
   ]
  },
  {
   "cell_type": "code",
   "execution_count": 18,
   "id": "661e007e",
   "metadata": {},
   "outputs": [
    {
     "data": {
      "image/png": "[encoded data removed]",
      "text/plain": [
       "<Figure size 1440x576 with 1 Axes>"
      ]
     },
     "metadata": {
      "needs_background": "light"
     },
     "output_type": "display_data"
    }
   ],
   "source": [
    "\n",
    "plt.figure(figsize = (20,8))\n",
    "plt.title(\"Distribution\")\n",
    "plt.xlabel(\"theta\")\n",
    "plt.ylabel(\"Probability Density\")\n",
    "plt.plot(X,prob_prior,'-b',label='prior')\n",
    "plt.plot(X,prob_likelihood,'g',label='likelihood')\n",
    "plt.plot(X,prob_post,'c',label='posterior')\n",
    "plt.legend()\n",
    "plt.show()"
   ]
  },
  {
   "cell_type": "markdown",
   "id": "24180ce3",
   "metadata": {},
   "source": [
    "## 2b)"
   ]
  },
  {
   "cell_type": "markdown",
   "id": "30aed3fd",
   "metadata": {},
   "source": [
    "Here below I have made functions for calculation of likelihood,prior and posterior given x, mean and standard deviation. get prior return density at a point and get_likelihood return list of probability densities and Cal_posterior returns the mean and standard deviation of the posterior.These functions will be handy while doing mcmc sampling."
   ]
  },
  {
   "cell_type": "code",
   "execution_count": 19,
   "id": "f8ffe49a",
   "metadata": {},
   "outputs": [],
   "source": [
    "def get_prior(candidate,mean,sd):\n",
    "    return normal(candidate,mean,sd)\n",
    "def get_likelihood(X,mean,sd):\n",
    "    prod = 1\n",
    "    for i in X:\n",
    "        prod *= normal(i,mean,sd)\n",
    "    return prod\n",
    "def Cal_posterior(m_l,d_l,m_p,d_p,n):\n",
    "    var = (d_l*d_l*d_p*d_p)/((d_l*d_l)+(d_p*d_p*n))\n",
    "    mean = var*(((m_p*d_l*d_l)+(n*m_l*d_p*d_p))/(d_l*d_l*d_p*d_p))\n",
    "    return mean,np.sqrt(var)"
   ]
  },
  {
   "cell_type": "markdown",
   "id": "a3e372c8",
   "metadata": {},
   "source": [
    "Here,in below snippet i have written the MCMC sampling function it takes argument X(data points), N-number of iterations for sampling,sd = width of data(deviation) and returns the sample list that contains all values of theta choosen in all it just remove starting 2000 values since algorithm is not stable at that point."
   ]
  },
  {
   "cell_type": "code",
   "execution_count": 20,
   "id": "2b169432",
   "metadata": {},
   "outputs": [],
   "source": [
    "def MCMC(X,N=200000,sd=5):\n",
    "    sample = [5]\n",
    "    \n",
    "    cur_theta = 5\n",
    "    \n",
    "    flag = False\n",
    "    m_p = 25\n",
    "    d_p = 5\n",
    "    \n",
    "    posterior_cur = get_prior(sample[-1],m_p,d_p)*get_likelihood(X,sample[-1],sd)\n",
    "    \n",
    "    for i in range(N):\n",
    "        \n",
    "        theta_candidate = np.random.normal(sample[-1],sd)\n",
    "        prior_val = get_prior(theta_candidate,m_p,d_p)\n",
    "        likelihood = get_likelihood(X,theta_candidate,sd)\n",
    "        \n",
    "        candidate_posterior = likelihood * prior_val\n",
    "        \n",
    "        r = candidate_posterior/posterior_cur\n",
    "        \n",
    "        if np.random.random() < r:\n",
    "            sample.append(theta_candidate)\n",
    "            posterior_cur = candidate_posterior\n",
    "        else:\n",
    "            sample.append(sample[-1])\n",
    "            \n",
    "        if len(sample) == 2500 and flag == False:\n",
    "            sample = sample[2000:]\n",
    "            flag = True\n",
    "            \n",
    "    return sample"
   ]
  },
  {
   "cell_type": "markdown",
   "id": "6952d1b3",
   "metadata": {},
   "source": [
    "The below code uses the above snippet to generate the sample histogram and also plots it and also plots the posterior on the same data."
   ]
  },
  {
   "cell_type": "code",
   "execution_count": null,
   "id": "8a095fac",
   "metadata": {},
   "outputs": [],
   "source": [
    "\n",
    "X = np.random.normal(loc=10, scale=5, size=50)\n",
    "m_l = np.mean(X)\n",
    "mean_posterior,std_posterior = Cal_posterior(m_l,5,25,5,50)\n",
    "\n",
    "sample = MCMC(X,200000,5)\n",
    "\n",
    "x_graph = np.linspace(1,20,500)\n",
    "plt.figure(figsize = (20,8))\n",
    "plt.hist(sample,bins = 100,density = True)\n",
    "post = []\n",
    "for i in x_graph:\n",
    "    post.append(normal(i,mean_posterior,std_posterior))\n",
    "plt.plot(x_graph,post,label= 'Posterior',color = 'c')\n",
    "plt.legend()\n",
    "plt.title(\"Metropolis Posterior and Analytic Posterior\")\n",
    "plt.show()"
   ]
  },
  {
   "cell_type": "markdown",
   "id": "e58caadc",
   "metadata": {},
   "source": [
    "## 2c)"
   ]
  },
  {
   "cell_type": "markdown",
   "id": "aac345aa",
   "metadata": {},
   "source": [
    "Trying to sample with less points below."
   ]
  },
  {
   "cell_type": "code",
   "execution_count": null,
   "id": "989428a2",
   "metadata": {},
   "outputs": [],
   "source": [
    "sample = MCMC(X,50000,5)\n",
    "plt.figure(figsize = (20,8))\n",
    "plt.hist(sample,bins = 100,density = True)\n",
    "plt.plot(x_graph,post,label= 'Posterior',color = 'c')\n",
    "plt.legend()\n",
    "plt.title(\"Metropolis Posterior and Analytic Posterior\")\n",
    "plt.show()"
   ]
  },
  {
   "cell_type": "markdown",
   "id": "aa87f68c",
   "metadata": {},
   "source": [
    "Still,the results were almost same as above hence with width = 5 we can say that its optimal.Now lets try with 4 below."
   ]
  },
  {
   "cell_type": "code",
   "execution_count": null,
   "id": "2ba65b12",
   "metadata": {},
   "outputs": [],
   "source": [
    "sample = MCMC(X,50000,4)\n",
    "plt.figure(figsize = (20,8))\n",
    "plt.hist(sample,bins = 100,density = True)\n",
    "plt.plot(x_graph,post,label= 'Posterior',color = 'c')\n",
    "plt.legend()\n",
    "plt.title(\"Metropolis Posterior and Analytic Posterior\")\n",
    "plt.show()"
   ]
  },
  {
   "cell_type": "markdown",
   "id": "305498bc",
   "metadata": {},
   "source": [
    "The results were ok but not as good as 5.Lets try with 6."
   ]
  },
  {
   "cell_type": "code",
   "execution_count": null,
   "id": "ef65bbb9",
   "metadata": {},
   "outputs": [],
   "source": [
    "sample = MCMC(X,50000,6)\n",
    "plt.figure(figsize = (20,8))\n",
    "plt.hist(sample,bins = 100,density = True)\n",
    "plt.plot(x_graph,post,label= 'Posterior',color = 'c')\n",
    "plt.legend()\n",
    "plt.title(\"Metropolis Posterior and Analytic Posterior\")\n",
    "plt.show()"
   ]
  },
  {
   "cell_type": "markdown",
   "id": "75e31658",
   "metadata": {},
   "source": [
    "Lets try with width = 7 now,"
   ]
  },
  {
   "cell_type": "code",
   "execution_count": null,
   "id": "f0b7a714",
   "metadata": {},
   "outputs": [],
   "source": [
    "sample = MCMC(X,50000,7)\n",
    "plt.figure(figsize = (20,8))\n",
    "plt.hist(sample,bins = 100,density = True)\n",
    "plt.plot(x_graph,post,label= 'Posterior',color = 'c')\n",
    "plt.legend()\n",
    "plt.title(\"Metropolis Posterior and Analytic Posterior\")\n",
    "plt.show()"
   ]
  },
  {
   "cell_type": "markdown",
   "id": "45876ff4",
   "metadata": {},
   "source": [
    "The more and more we are deviation from 5 the results are getting worse the we can say 5 is optimal and near to 5 the 4 and 6 are sub-optimal."
   ]
  },
  {
   "cell_type": "markdown",
   "id": "674b6b75",
   "metadata": {},
   "source": [
    "### Conclusion:"
   ]
  },
  {
   "cell_type": "markdown",
   "id": "88d8011e",
   "metadata": {},
   "source": [
    "The speed of convergence depends on the width with optimal width it can converge very fast that with worst width."
   ]
  }
 ],
 "metadata": {
  "kernelspec": {
   "display_name": "Python 3 (ipykernel)",
   "language": "python",
   "name": "python3"
  },
  "language_info": {
   "codemirror_mode": {
    "name": "ipython",
    "version": 3
   },
   "file_extension": ".py",
   "mimetype": "text/x-python",
   "name": "python",
   "nbconvert_exporter": "python",
   "pygments_lexer": "ipython3",
   "version": "3.9.6"
  }
 },
 "nbformat": 4,
 "nbformat_minor": 5
}
